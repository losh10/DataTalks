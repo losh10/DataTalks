{
 "cells": [
  {
   "cell_type": "code",
   "execution_count": 1,
   "metadata": {},
   "outputs": [
    {
     "name": "stderr",
     "output_type": "stream",
     "text": [
      "2024-12-03 00:45:22.744756: I tensorflow/tsl/cuda/cudart_stub.cc:28] Could not find cuda drivers on your machine, GPU will not be used.\n",
      "2024-12-03 00:45:25.703328: I tensorflow/tsl/cuda/cudart_stub.cc:28] Could not find cuda drivers on your machine, GPU will not be used.\n",
      "2024-12-03 00:45:25.710153: I tensorflow/core/platform/cpu_feature_guard.cc:182] This TensorFlow binary is optimized to use available CPU instructions in performance-critical operations.\n",
      "To enable the following instructions: AVX2 FMA, in other operations, rebuild TensorFlow with the appropriate compiler flags.\n",
      "2024-12-03 00:45:32.154808: W tensorflow/compiler/tf2tensorrt/utils/py_utils.cc:38] TF-TRT Warning: Could not find TensorRT\n"
     ]
    }
   ],
   "source": [
    "import numpy as np \n",
    "import tensorflow as tf\n",
    "from tensorflow.keras.models import Sequential\n",
    "from tensorflow.keras.layers import Conv2D, MaxPooling2D, Flatten, Dense\n",
    "from tensorflow.keras.optimizers import SGD\n"
   ]
  },
  {
   "cell_type": "code",
   "execution_count": 2,
   "metadata": {},
   "outputs": [
    {
     "name": "stdout",
     "output_type": "stream",
     "text": [
      "Model: \"sequential\"\n",
      "_________________________________________________________________\n",
      " Layer (type)                Output Shape              Param #   \n",
      "=================================================================\n",
      " conv2d (Conv2D)             (None, 198, 198, 32)      896       \n",
      "                                                                 \n",
      " max_pooling2d (MaxPooling2  (None, 99, 99, 32)        0         \n",
      " D)                                                              \n",
      "                                                                 \n",
      " flatten (Flatten)           (None, 313632)            0         \n",
      "                                                                 \n",
      " dense (Dense)               (None, 64)                20072512  \n",
      "                                                                 \n",
      " dense_1 (Dense)             (None, 1)                 65        \n",
      "                                                                 \n",
      "=================================================================\n",
      "Total params: 20073473 (76.57 MB)\n",
      "Trainable params: 20073473 (76.57 MB)\n",
      "Non-trainable params: 0 (0.00 Byte)\n",
      "_________________________________________________________________\n"
     ]
    }
   ],
   "source": [
    "# Define the CNN model\n",
    "model = Sequential()\n",
    "\n",
    "# Convolutional layer\n",
    "model.add(Conv2D(filters=32, kernel_size=(3, 3), activation='relu', input_shape=(200, 200, 3)))\n",
    "\n",
    "# MaxPooling layer\n",
    "model.add(MaxPooling2D(pool_size=(2, 2)))\n",
    "\n",
    "# Flatten layer\n",
    "model.add(Flatten())\n",
    "\n",
    "# Dense layer with 64 neurons\n",
    "model.add(Dense(64, activation='relu'))\n",
    "\n",
    "# Output layer with 1 neuron and sigmoid activation\n",
    "model.add(Dense(1, activation='sigmoid'))\n",
    "\n",
    "# Compile the model with SGD optimizer\n",
    "optimizer = SGD(learning_rate=0.002, momentum=0.8)\n",
    "model.compile(optimizer=optimizer, loss='binary_crossentropy', metrics=['accuracy'])\n",
    "\n",
    "# Display the model summary\n",
    "model.summary()\n"
   ]
  },
  {
   "cell_type": "code",
   "execution_count": 3,
   "metadata": {},
   "outputs": [
    {
     "name": "stdout",
     "output_type": "stream",
     "text": [
      "Found 800 images belonging to 2 classes.\n",
      "Found 201 images belonging to 2 classes.\n",
      "Epoch 1/10\n",
      "40/40 [==============================] - 33s 771ms/step - loss: 0.7074 - accuracy: 0.5775 - val_loss: 0.6639 - val_accuracy: 0.5721\n",
      "Epoch 2/10\n",
      "40/40 [==============================] - 34s 838ms/step - loss: 0.6341 - accuracy: 0.6388 - val_loss: 0.6331 - val_accuracy: 0.6169\n",
      "Epoch 3/10\n",
      "40/40 [==============================] - 32s 801ms/step - loss: 0.5923 - accuracy: 0.6762 - val_loss: 0.6175 - val_accuracy: 0.6517\n",
      "Epoch 4/10\n",
      "40/40 [==============================] - 31s 774ms/step - loss: 0.5749 - accuracy: 0.6950 - val_loss: 0.6114 - val_accuracy: 0.6468\n",
      "Epoch 5/10\n",
      "40/40 [==============================] - 34s 837ms/step - loss: 0.5468 - accuracy: 0.7212 - val_loss: 0.6145 - val_accuracy: 0.6617\n",
      "Epoch 6/10\n",
      "40/40 [==============================] - 29s 730ms/step - loss: 0.5246 - accuracy: 0.7275 - val_loss: 0.6061 - val_accuracy: 0.6567\n",
      "Epoch 7/10\n",
      "40/40 [==============================] - 29s 725ms/step - loss: 0.5338 - accuracy: 0.7225 - val_loss: 0.6295 - val_accuracy: 0.6368\n",
      "Epoch 8/10\n",
      "40/40 [==============================] - 30s 739ms/step - loss: 0.5063 - accuracy: 0.7500 - val_loss: 0.6076 - val_accuracy: 0.6716\n",
      "Epoch 9/10\n",
      "40/40 [==============================] - 29s 718ms/step - loss: 0.4647 - accuracy: 0.7862 - val_loss: 0.6233 - val_accuracy: 0.6468\n",
      "Epoch 10/10\n",
      "40/40 [==============================] - 30s 757ms/step - loss: 0.4751 - accuracy: 0.7675 - val_loss: 0.6018 - val_accuracy: 0.6866\n"
     ]
    }
   ],
   "source": [
    "from tensorflow.keras.preprocessing.image import ImageDataGenerator\n",
    "\n",
    "# Create ImageDataGenerator for train and test sets\n",
    "train_datagen = ImageDataGenerator(rescale=1.0 / 255)\n",
    "test_datagen = ImageDataGenerator(rescale=1.0 / 255)\n",
    "\n",
    "# Load train data\n",
    "train_generator = train_datagen.flow_from_directory(\n",
    "    '/home/malloy/Desktop/for data science/datatalks/hw8/data/train',\n",
    "    target_size=(200, 200),  \n",
    "    batch_size=20,\n",
    "    class_mode='binary',     \n",
    "    shuffle=True\n",
    ")\n",
    "\n",
    "# Load test data\n",
    "test_generator = test_datagen.flow_from_directory(\n",
    "    '/home/malloy/Desktop/for data science/datatalks/hw8/data/test',\n",
    "    target_size=(200, 200),\n",
    "    batch_size=20,\n",
    "    class_mode='binary',    \n",
    "    shuffle=True\n",
    ")\n",
    "\n",
    "# Train the model\n",
    "history = model.fit(\n",
    "    train_generator,\n",
    "    epochs=10,\n",
    "    validation_data=test_generator\n",
    ")\n"
   ]
  },
  {
   "cell_type": "code",
   "execution_count": 5,
   "metadata": {},
   "outputs": [
    {
     "name": "stdout",
     "output_type": "stream",
     "text": [
      "Median Training Accuracy: 0.721875011920929\n",
      "Standard Deviation of Training Loss: 0.07042397514965328\n"
     ]
    }
   ],
   "source": [
    "training_accuracy = history.history['accuracy']\n",
    "training_loss = history.history['loss']\n",
    "\n",
    "median_accuracy = np.median(training_accuracy)\n",
    "\n",
    "std_loss = np.std(training_loss)\n",
    "\n",
    "print(f\"Median Training Accuracy: {median_accuracy}\")\n",
    "print(f\"Standard Deviation of Training Loss: {std_loss}\")\n"
   ]
  },
  {
   "cell_type": "code",
   "execution_count": 7,
   "metadata": {},
   "outputs": [
    {
     "name": "stdout",
     "output_type": "stream",
     "text": [
      "Found 800 images belonging to 2 classes.\n",
      "Found 201 images belonging to 2 classes.\n"
     ]
    }
   ],
   "source": [
    "# Augmented training data generator\n",
    "augmented_train_datagen = ImageDataGenerator(\n",
    "    rescale=1.0 / 255,\n",
    "    rotation_range=50,\n",
    "    width_shift_range=0.1,\n",
    "    height_shift_range=0.1,\n",
    "    zoom_range=0.1,\n",
    "    horizontal_flip=True,\n",
    "    fill_mode='nearest'\n",
    ")\n",
    "\n",
    "\n",
    "test_datagen = ImageDataGenerator(rescale=1.0 / 255)\n",
    "\n",
    "# Load augmented train data\n",
    "augmented_train_generator = augmented_train_datagen.flow_from_directory(\n",
    "    '/home/malloy/Desktop/for data science/datatalks/hw8/data/train',\n",
    "    target_size=(200, 200),\n",
    "    batch_size=20,\n",
    "    class_mode='binary',\n",
    "    shuffle=True\n",
    ")\n",
    "\n",
    "# Load test data\n",
    "test_generator = test_datagen.flow_from_directory(\n",
    "    '/home/malloy/Desktop/for data science/datatalks/hw8/data/test',\n",
    "    target_size=(200, 200),\n",
    "    batch_size=20,\n",
    "    class_mode='binary',\n",
    "    shuffle=True\n",
    ")\n"
   ]
  },
  {
   "cell_type": "code",
   "execution_count": 8,
   "metadata": {},
   "outputs": [
    {
     "name": "stdout",
     "output_type": "stream",
     "text": [
      "Epoch 1/10\n",
      "40/40 [==============================] - 44s 1s/step - loss: 0.5995 - accuracy: 0.6725 - val_loss: 0.6567 - val_accuracy: 0.6468\n",
      "Epoch 2/10\n",
      "40/40 [==============================] - 64s 2s/step - loss: 0.6227 - accuracy: 0.6575 - val_loss: 0.5886 - val_accuracy: 0.7015\n",
      "Epoch 3/10\n",
      "40/40 [==============================] - 41s 1s/step - loss: 0.6230 - accuracy: 0.6762 - val_loss: 0.5846 - val_accuracy: 0.7114\n",
      "Epoch 4/10\n",
      "40/40 [==============================] - 44s 1s/step - loss: 0.5887 - accuracy: 0.6850 - val_loss: 0.5584 - val_accuracy: 0.7065\n",
      "Epoch 5/10\n",
      "40/40 [==============================] - 44s 1s/step - loss: 0.5844 - accuracy: 0.6913 - val_loss: 0.5625 - val_accuracy: 0.6915\n",
      "Epoch 6/10\n",
      "40/40 [==============================] - 41s 1s/step - loss: 0.5824 - accuracy: 0.6800 - val_loss: 0.5751 - val_accuracy: 0.7164\n",
      "Epoch 7/10\n",
      "40/40 [==============================] - 38s 939ms/step - loss: 0.5865 - accuracy: 0.6837 - val_loss: 0.6610 - val_accuracy: 0.6517\n",
      "Epoch 8/10\n",
      "40/40 [==============================] - 34s 846ms/step - loss: 0.5789 - accuracy: 0.7050 - val_loss: 0.5691 - val_accuracy: 0.7114\n",
      "Epoch 9/10\n",
      "40/40 [==============================] - 33s 810ms/step - loss: 0.5650 - accuracy: 0.7212 - val_loss: 0.5528 - val_accuracy: 0.6965\n",
      "Epoch 10/10\n",
      "40/40 [==============================] - 57s 1s/step - loss: 0.5625 - accuracy: 0.7038 - val_loss: 0.5726 - val_accuracy: 0.7065\n"
     ]
    }
   ],
   "source": [
    "history_augmented = model.fit(\n",
    "    augmented_train_generator,\n",
    "    epochs=10,\n",
    "    validation_data=test_generator\n",
    ")\n"
   ]
  },
  {
   "cell_type": "code",
   "execution_count": 9,
   "metadata": {},
   "outputs": [
    {
     "name": "stdout",
     "output_type": "stream",
     "text": [
      "Mean Test Loss: 0.5881363868713378\n"
     ]
    }
   ],
   "source": [
    "test_loss = history_augmented.history['val_loss']\n",
    "\n",
    "mean_test_loss = np.mean(test_loss)\n",
    "\n",
    "print(f\"Mean Test Loss: {mean_test_loss}\")\n"
   ]
  },
  {
   "cell_type": "code",
   "execution_count": 10,
   "metadata": {},
   "outputs": [
    {
     "name": "stdout",
     "output_type": "stream",
     "text": [
      "Average Test Accuracy for Last 5 Epochs: 0.6965174078941345\n"
     ]
    }
   ],
   "source": [
    "val_accuracy = history_augmented.history['val_accuracy']\n",
    "\n",
    "last_5_epochs_accuracy = val_accuracy[5:10]\n",
    "\n",
    "average_accuracy = np.mean(last_5_epochs_accuracy)\n",
    "\n",
    "print(f\"Average Test Accuracy for Last 5 Epochs: {average_accuracy}\")\n"
   ]
  }
 ],
 "metadata": {
  "kernelspec": {
   "display_name": "tensorflow",
   "language": "python",
   "name": "python3"
  },
  "language_info": {
   "codemirror_mode": {
    "name": "ipython",
    "version": 3
   },
   "file_extension": ".py",
   "mimetype": "text/x-python",
   "name": "python",
   "nbconvert_exporter": "python",
   "pygments_lexer": "ipython3",
   "version": "3.8.19"
  }
 },
 "nbformat": 4,
 "nbformat_minor": 2
}
